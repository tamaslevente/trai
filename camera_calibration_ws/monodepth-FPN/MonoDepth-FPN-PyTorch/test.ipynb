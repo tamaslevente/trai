{
 "metadata": {
  "language_info": {
   "codemirror_mode": {
    "name": "ipython",
    "version": 3
   },
   "file_extension": ".py",
   "mimetype": "text/x-python",
   "name": "python",
   "nbconvert_exporter": "python",
   "pygments_lexer": "ipython3",
   "version": "3.6.9-final"
  },
  "orig_nbformat": 2,
  "kernelspec": {
   "name": "python3",
   "display_name": "Python 3.6.9 64-bit ('.venv_mono_depth')",
   "metadata": {
    "interpreter": {
     "hash": "f5c8e3d718068eb4c1bd742fdaacafe8d6809c7256137503d74b6f7a4f7048c9"
    }
   }
  }
 },
 "nbformat": 4,
 "nbformat_minor": 2,
 "cells": [
  {
   "cell_type": "code",
   "execution_count": 2,
   "metadata": {},
   "outputs": [],
   "source": [
    "import numpy as np\n",
    "import cv2\n",
    "import torch \n",
    "import open3d as o3d"
   ]
  },
  {
   "cell_type": "code",
   "execution_count": 31,
   "metadata": {},
   "outputs": [
    {
     "output_type": "execute_result",
     "data": {
      "text/plain": [
       "0.9863645941608896"
      ]
     },
     "metadata": {},
     "execution_count": 31
    }
   ],
   "source": [
    "pcd_pred_path =  \"/media/rambo/ssd2/Szilard/nyu_v2_filter/comparison/depth_synth/depth_01000_pred.pcd\"\n",
    "pcd_load = o3d.io.read_point_cloud(pcd_pred_path)\n",
    "xyz_load = np.asarray(pcd_load.points)\n",
    "z_pred = np.mean(xyz_load[:,2])\n",
    "z_pred"
   ]
  },
  {
   "cell_type": "code",
   "execution_count": 32,
   "metadata": {},
   "outputs": [
    {
     "output_type": "execute_result",
     "data": {
      "text/plain": [
       "1.0"
      ]
     },
     "metadata": {},
     "execution_count": 32
    }
   ],
   "source": [
    "pcd_gt_path =  \"/media/rambo/ssd2/Szilard/nyu_v2_filter/comparison/pcd_synth/01000_synth.pcd\"\n",
    "pcd_load = o3d.io.read_point_cloud(pcd_gt_path)\n",
    "xyz_load = np.asarray(pcd_load.points)\n",
    "z_gt = np.mean(xyz_load[:,2])\n",
    "z_gt"
   ]
  },
  {
   "cell_type": "code",
   "execution_count": 33,
   "metadata": {},
   "outputs": [
    {
     "output_type": "stream",
     "name": "stdout",
     "text": [
      "0.013635405839110382\n"
     ]
    }
   ],
   "source": [
    "print(z_gt/z_gt - z_pred/z_gt)"
   ]
  },
  {
   "cell_type": "code",
   "execution_count": 34,
   "metadata": {},
   "outputs": [
    {
     "output_type": "execute_result",
     "data": {
      "text/plain": [
       "6.904552161631485"
      ]
     },
     "metadata": {},
     "execution_count": 34
    }
   ],
   "source": [
    "pcd_pred_path =  \"/media/rambo/ssd2/Szilard/nyu_v2_filter/comparison/depth_synth/depth_07000_pred.pcd\"\n",
    "pcd_load = o3d.io.read_point_cloud(pcd_pred_path)\n",
    "xyz_load = np.asarray(pcd_load.points)\n",
    "z_pred = np.mean(xyz_load[:,2])\n",
    "z_pred"
   ]
  },
  {
   "cell_type": "code",
   "execution_count": 35,
   "metadata": {},
   "outputs": [
    {
     "output_type": "execute_result",
     "data": {
      "text/plain": [
       "7.0"
      ]
     },
     "metadata": {},
     "execution_count": 35
    }
   ],
   "source": [
    "pcd_gt_path =  \"/media/rambo/ssd2/Szilard/nyu_v2_filter/comparison/pcd_synth/07000_synth.pcd\"\n",
    "pcd_load = o3d.io.read_point_cloud(pcd_gt_path)\n",
    "xyz_load = np.asarray(pcd_load.points)\n",
    "z_gt = np.mean(xyz_load[:,2])\n",
    "z_gt"
   ]
  },
  {
   "cell_type": "code",
   "execution_count": 36,
   "metadata": {},
   "outputs": [
    {
     "output_type": "stream",
     "name": "stdout",
     "text": [
      "0.013635405481216445\n"
     ]
    }
   ],
   "source": [
    "print(z_gt/z_gt - z_pred/z_gt)"
   ]
  },
  {
   "cell_type": "code",
   "execution_count": 37,
   "metadata": {},
   "outputs": [
    {
     "output_type": "execute_result",
     "data": {
      "text/plain": [
       "8.877281348605951"
      ]
     },
     "metadata": {},
     "execution_count": 37
    }
   ],
   "source": [
    "pcd_pred_path =  \"/media/rambo/ssd2/Szilard/nyu_v2_filter/comparison/depth_synth/depth_09000_pred.pcd\"\n",
    "pcd_load = o3d.io.read_point_cloud(pcd_pred_path)\n",
    "xyz_load = np.asarray(pcd_load.points)\n",
    "z_pred = np.mean(xyz_load[:,2])\n",
    "z_pred"
   ]
  },
  {
   "cell_type": "code",
   "execution_count": 38,
   "metadata": {},
   "outputs": [
    {
     "output_type": "execute_result",
     "data": {
      "text/plain": [
       "9.0"
      ]
     },
     "metadata": {},
     "execution_count": 38
    }
   ],
   "source": [
    "pcd_gt_path =  \"/media/rambo/ssd2/Szilard/nyu_v2_filter/comparison/pcd_synth/09000_synth.pcd\"\n",
    "pcd_load = o3d.io.read_point_cloud(pcd_gt_path)\n",
    "xyz_load = np.asarray(pcd_load.points)\n",
    "z_gt = np.mean(xyz_load[:,2])\n",
    "z_gt"
   ]
  },
  {
   "cell_type": "code",
   "execution_count": 39,
   "metadata": {},
   "outputs": [
    {
     "output_type": "stream",
     "name": "stdout",
     "text": [
      "0.013635405710449855\n"
     ]
    }
   ],
   "source": [
    "print(z_gt/z_gt - z_pred/z_gt)"
   ]
  },
  {
   "cell_type": "code",
   "execution_count": null,
   "metadata": {},
   "outputs": [],
   "source": []
  }
 ]
}