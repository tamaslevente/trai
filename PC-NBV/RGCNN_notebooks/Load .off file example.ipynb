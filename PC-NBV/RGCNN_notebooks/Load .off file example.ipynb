{
 "cells": [
  {
   "cell_type": "markdown",
   "id": "dc5cecee",
   "metadata": {},
   "source": [
    "Example of loading \".off\" files:"
   ]
  },
  {
   "cell_type": "code",
   "execution_count": 1,
   "id": "d46281cb",
   "metadata": {},
   "outputs": [
    {
     "name": "stdout",
     "output_type": "stream",
     "text": [
      "/home/alex/Alex_pyt_geom\r\n"
     ]
    }
   ],
   "source": [
    "!pwd"
   ]
  },
  {
   "cell_type": "code",
   "execution_count": 4,
   "id": "99183f58",
   "metadata": {},
   "outputs": [
    {
     "name": "stdout",
     "output_type": "stream",
     "text": [
      "Data(pos=[356470, 3], face=[3, 713244])\n"
     ]
    }
   ],
   "source": [
    "import os\n",
    "import os.path as osp\n",
    "import glob\n",
    "# for this example these are not used however they are useful for loading multiple files\n",
    "\n",
    "import torch\n",
    "from torch_geometric.data import InMemoryDataset\n",
    "from torch_geometric.io import read_off\n",
    "\n",
    "path = '/home/alex/Alex_pyt_geom/teste/'\n",
    "filename = 'CHDRailwayWagon02.off'\n",
    "# the \"read_off\" function is taken from pytorch_geometric and loads a \".off\" object directly in a pytorch \"data\" object\n",
    "data = read_off(path + filename)\n",
    "print(data)"
   ]
  },
  {
   "cell_type": "markdown",
   "id": "1a12d6fa",
   "metadata": {},
   "source": []
  },
  {
   "cell_type": "code",
   "execution_count": null,
   "id": "6de78a15",
   "metadata": {},
   "outputs": [],
   "source": []
  }
 ],
 "metadata": {
  "kernelspec": {
   "display_name": "Python 3",
   "language": "python",
   "name": "python3"
  },
  "language_info": {
   "codemirror_mode": {
    "name": "ipython",
    "version": 3
   },
   "file_extension": ".py",
   "mimetype": "text/x-python",
   "name": "python",
   "nbconvert_exporter": "python",
   "pygments_lexer": "ipython3",
   "version": "3.7.11"
  }
 },
 "nbformat": 4,
 "nbformat_minor": 5
}
