{
 "cells": [
  {
   "cell_type": "code",
   "execution_count": 8,
   "id": "f3c8230a",
   "metadata": {},
   "outputs": [
    {
     "name": "stdout",
     "output_type": "stream",
     "text": [
      "/home/victor/workspace/thesis_ws/RGCNN/..\n"
     ]
    }
   ],
   "source": [
    "import os\n",
    "import sys\n",
    "import numpy as np\n",
    "BASE_DIR = os.path.abspath('')\n",
    "sys.path.append(BASE_DIR)\n",
    "# ROOT_DIR = BASE_DIR\n",
    "ROOT_DIR = os.path.join(BASE_DIR, os.pardir)\n",
    "print(ROOT_DIR)"
   ]
  },
  {
   "cell_type": "code",
   "execution_count": 33,
   "id": "444ffd96",
   "metadata": {},
   "outputs": [
    {
     "name": "stdout",
     "output_type": "stream",
     "text": [
      "0\n"
     ]
    }
   ],
   "source": [
    "DATA_DIR = os.path.join(ROOT_DIR, 'data/modelnet40_normal_resampled')\n",
    "\n",
    "train_file_name = 'modelnet40_train.txt'\n",
    "train_file = os.path.join(DATA_DIR, train_file_name)\n",
    "\n",
    "shape_ids = {}\n",
    "shape_ids['train'] = [line.rstrip() for line in open(train_file)] # this gets the filenames of the objects\n",
    "# print(shape_ids['train'])\n",
    "split = 'train'\n",
    "shape_names = ['_'.join(x.split('_')[0:-1]) for x in shape_ids[split]] # this gets the objects names\n",
    "# print(shape_names)\n",
    "\n",
    "# get all the classes\n",
    "cat_file = os.path.join(DATA_DIR, 'modelnet40_shape_names.txt')\n",
    "cat = [line.rstrip() for line in open(cat_file)]\n",
    "#print(cat[0])\n",
    "\n",
    "# Put the clasees into a 'dict'?\n",
    "classes = dict(zip(cat, range(len(cat))))  \n",
    "# print(classes)\n",
    "\n",
    "# get the label and path to the obj. Ex.: [('airplane', 'home/.../airplane/airplane_0001.txt')]\n",
    "datapath = [(shape_names[i], os.path.join(DATA_DIR, shape_names[i], shape_ids[split][i])+'.txt') for i in range(len(shape_ids[split]))]\n",
    "# print(datapath[0][0])\n",
    "\n",
    "fn = datapath[0]\n",
    "cls = classes[datapath[0][0]]\n",
    "cls = np.array([cls].astype(np.int32))\n"
   ]
  }
 ],
 "metadata": {
  "kernelspec": {
   "display_name": "Python 3",
   "language": "python",
   "name": "python3"
  },
  "language_info": {
   "codemirror_mode": {
    "name": "ipython",
    "version": 3
   },
   "file_extension": ".py",
   "mimetype": "text/x-python",
   "name": "python",
   "nbconvert_exporter": "python",
   "pygments_lexer": "ipython3",
   "version": "3.6.9"
  }
 },
 "nbformat": 4,
 "nbformat_minor": 5
}
