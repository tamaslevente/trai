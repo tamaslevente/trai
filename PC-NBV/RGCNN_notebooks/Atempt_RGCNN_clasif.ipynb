{
 "cells": [
  {
   "cell_type": "code",
   "execution_count": 1,
   "id": "703dfb78",
   "metadata": {},
   "outputs": [
    {
     "name": "stdout",
     "output_type": "stream",
     "text": [
      "GeometricShapes(40)\n"
     ]
    }
   ],
   "source": [
    "import torch.nn as nn\n",
    "from torch_geometric.datasets import GeometricShapes\n",
    "\n",
    "dataset = GeometricShapes(root='data/GeometricShapes')\n",
    "print(dataset)\n",
    "\n"
   ]
  },
  {
   "cell_type": "code",
   "execution_count": 2,
   "id": "62039c3c",
   "metadata": {},
   "outputs": [
    {
     "name": "stdout",
     "output_type": "stream",
     "text": [
      "Data(pos=[1024, 3], y=[1])\n"
     ]
    }
   ],
   "source": [
    "import torch\n",
    "from torch_geometric.transforms import SamplePoints\n",
    "\n",
    "torch.manual_seed(42)\n",
    "\n",
    "nr_points=1024\n",
    "\n",
    "dataset.transform = SamplePoints(num=nr_points)\n",
    "\n",
    "data = dataset[39]\n",
    "print(data)"
   ]
  },
  {
   "cell_type": "code",
   "execution_count": 3,
   "id": "cae2cf7a",
   "metadata": {},
   "outputs": [],
   "source": [
    "class GetGraph(nn.Module):\n",
    "    def __init__(self):\n",
    "        super(GetGraph, self).__init__()\n",
    "\n",
    "    def forward(self, point_cloud):\n",
    "        point_cloud_transpose = point_cloud.permute(0, 2, 1)\n",
    "        point_cloud_inner = torch.matmul(point_cloud, point_cloud_transpose)\n",
    "        point_cloud_inner = -2 * point_cloud_inner\n",
    "        point_cloud_square = torch.sum(torch.mul(point_cloud, point_cloud), dim=2, keepdim=True)\n",
    "        point_cloud_square_tranpose = point_cloud_square.permute(0, 2, 1)\n",
    "        adj_matrix = point_cloud_square + point_cloud_inner + point_cloud_square_tranpose\n",
    "        adj_matrix = torch.exp(-adj_matrix)\n",
    "        return adj_matrix\n",
    "\n",
    "\n",
    "class GetLaplacian(nn.Module):\n",
    "    def __init__(self, normalize=True):\n",
    "        super(GetLaplacian, self).__init__()\n",
    "        self.normalize = normalize\n",
    "\n",
    "    def diag(self, mat):\n",
    "        # input is batch x vertices\n",
    "        d = []\n",
    "        for vec in mat:\n",
    "            d.append(torch.diag(vec))\n",
    "        return torch.stack(d)\n",
    "\n",
    "    def forward(self, adj_matrix):\n",
    "        if self.normalize:\n",
    "            D = torch.sum(adj_matrix, dim=2)\n",
    "            eye = torch.ones_like(D)\n",
    "            eye = self.diag(eye)\n",
    "            D = 1 / torch.sqrt(D)\n",
    "            D = self.diag(D)\n",
    "            L = eye - torch.matmul(torch.matmul(D, adj_matrix), D)\n",
    "        else:\n",
    "            D = torch.sum(adj_matrix, dim=1)\n",
    "            D = torch.matrix_diag(D)\n",
    "            L = D - adj_matrix\n",
    "        return L\n",
    "\n",
    "\n",
    "# class GetFilter(nn.Module):\n",
    "#     def __init__(self, Fin, K, Fout):\n",
    "#         super(GetFilter, self).__init__()\n",
    "#         self.Fin = Fin\n",
    "#         self.Fout = Fout\n",
    "#         self.K = K\n",
    "#         self.W = nn.Parameter(torch.Tensor(self.K * self.Fin, self.Fout))\n",
    "#         nn.init.normal_(self.W, mean=0, std=0.2)\n",
    "#         self.B = nn.Parameter(torch.Tensor(self.Fout))\n",
    "#         nn.init.normal_(self.B, mean=0, std=0.2)\n",
    "#         self.relu = nn.ReLU()\n",
    "\n",
    "#     # def reset_parameters(self):\n",
    "\n",
    "#     def forward(self, x, L):\n",
    "#         N, M, Fin = list(x.size())\n",
    "#         K = self.K\n",
    "#         x0 = x.clone()\n",
    "#         x = x0.unsqueeze(0)\n",
    "\n",
    "#         #         x = x.expand(-1,-1,-1,1)\n",
    "#         def concat(x, x_):\n",
    "#             x_ = x_.unsqueeze(0)\n",
    "#             #             x_ = x.expand(1,-1,-1)\n",
    "#             return torch.cat((x, x_), dim=0)\n",
    "\n",
    "#         if K > 1:\n",
    "#             x1 = torch.matmul(L, x0)\n",
    "#             x = concat(x, x1)\n",
    "#         for k in range(2, K):\n",
    "#             x2 = 2 * torch.matmul(L, x1) - x0\n",
    "#             x = concat(x, x2)\n",
    "#             x0, x1 = x1, x2\n",
    "#         x = x.permute(1, 2, 3, 0)\n",
    "#         x = x.reshape(N * M, Fin * K)\n",
    "#         x = torch.matmul(x, self.W)\n",
    "#         x = torch.add(x, self.B)\n",
    "#         x = self.relu(x)\n",
    "#         return x.reshape(N, M, self.Fout)"
   ]
  },
  {
   "cell_type": "code",
   "execution_count": 4,
   "id": "2d2199b3",
   "metadata": {},
   "outputs": [
    {
     "name": "stdout",
     "output_type": "stream",
     "text": [
      "torch.Size([1024, 3])\n",
      "torch.Size([1, 1024, 3])\n",
      "torch.Size([1, 1024, 1024])\n",
      "torch.Size([1024, 1024])\n",
      "tensor([[1.0000, 0.5828, 0.9376,  ..., 0.1363, 0.3722, 0.7379],\n",
      "        [0.5828, 1.0000, 0.6627,  ..., 0.5064, 0.2619, 0.6291],\n",
      "        [0.9376, 0.6627, 1.0000,  ..., 0.2344, 0.5538, 0.9149],\n",
      "        ...,\n",
      "        [0.1363, 0.5064, 0.2344,  ..., 1.0000, 0.2453, 0.3585],\n",
      "        [0.3722, 0.2619, 0.5538,  ..., 0.2453, 1.0000, 0.7663],\n",
      "        [0.7379, 0.6291, 0.9149,  ..., 0.3585, 0.7663, 1.0000]])\n"
     ]
    }
   ],
   "source": [
    "getter=GetGraph()\n",
    "print(dataset[0].pos.shape)\n",
    "data=dataset[0].pos\n",
    "data=data.reshape([1,nr_points,3])\n",
    "print(data.shape)\n",
    "x=data\n",
    "W=getter(data)\n",
    "W_torch=W\n",
    "print(W_torch.shape)\n",
    "W=torch.squeeze(W)\n",
    "print(W.shape)\n",
    "print(W)"
   ]
  },
  {
   "cell_type": "code",
   "execution_count": 5,
   "id": "1755bac0",
   "metadata": {},
   "outputs": [
    {
     "name": "stdout",
     "output_type": "stream",
     "text": [
      "torch.Size([1, 1024, 1024])\n",
      "torch.Size([1024, 1024])\n",
      "tensor([[ 9.9728e-01, -1.5304e-03, -2.2361e-03,  ..., -3.4304e-04,\n",
      "         -7.8977e-04, -1.5904e-03],\n",
      "        [-1.5304e-03,  9.9746e-01, -1.5274e-03,  ..., -1.2321e-03,\n",
      "         -5.3711e-04, -1.3104e-03],\n",
      "        [-2.2361e-03, -1.5274e-03,  9.9791e-01,  ..., -5.1798e-04,\n",
      "         -1.0316e-03, -1.7307e-03],\n",
      "        ...,\n",
      "        [-3.4304e-04, -1.2321e-03, -5.1798e-04,  ...,  9.9767e-01,\n",
      "         -4.8236e-04, -7.1595e-04],\n",
      "        [-7.8977e-04, -5.3711e-04, -1.0316e-03,  ..., -4.8236e-04,\n",
      "          9.9834e-01, -1.2901e-03],\n",
      "        [-1.5904e-03, -1.3104e-03, -1.7307e-03,  ..., -7.1595e-04,\n",
      "         -1.2901e-03,  9.9829e-01]])\n"
     ]
    }
   ],
   "source": [
    "getter_laplacian=GetLaplacian()\n",
    "L_torch=getter_laplacian(W_torch)\n",
    "L=torch.squeeze(L_torch)\n",
    "print(L_torch.shape)\n",
    "print(L.shape)\n",
    "print(L)\n"
   ]
  },
  {
   "cell_type": "code",
   "execution_count": 6,
   "id": "15f734c1",
   "metadata": {},
   "outputs": [],
   "source": [
    "import torch.nn as nn\n",
    "def find_eigmax(L):\n",
    "    with torch.no_grad():\n",
    "        e1, _ = torch.eig(L, eigenvectors=False)\n",
    "        return torch.max(e1[:, 0]).item()\n",
    "\n",
    "def chebyshev_Lapl(X, Lapl, thetas, order):\n",
    "  list_powers = []\n",
    "  nodes = Lapl.shape[0]\n",
    "\n",
    "  T0 = X.float()\n",
    "\n",
    "  eigmax = find_eigmax(Lapl)\n",
    "  L_rescaled = (2 * Lapl / eigmax) - torch.eye(1024)\n",
    "\n",
    "  y = T0 * thetas[0]\n",
    "  list_powers.append(y)\n",
    "  T1 = torch.matmul(L_rescaled, T0)\n",
    "  list_powers.append(T1 * thetas[1])\n",
    "\n",
    "  # Computation of: T_k = 2*L_rescaled*T_k-1  -  T_k-2\n",
    "  for k in range(2, order):\n",
    "      T2 = 2 * torch.matmul(L_rescaled, T1) - T0\n",
    "      list_powers.append((T2 * thetas[k]))\n",
    "      T0, T1 = T1, T2\n",
    "  y_out = torch.stack(list_powers, dim=-1)\n",
    "  # the powers may be summed or concatenated. i use concatenation here\n",
    "  y_out = y_out.view(nodes, -1) # -1 = order* features_of_signal\n",
    "  return y_out"
   ]
  },
  {
   "cell_type": "code",
   "execution_count": 7,
   "id": "e233470e",
   "metadata": {},
   "outputs": [
    {
     "name": "stdout",
     "output_type": "stream",
     "text": [
      "cheb approx out powers concatenated: torch.Size([1024, 18])\n",
      "Layers output: torch.Size([1024, 128])\n"
     ]
    }
   ],
   "source": [
    "features_1 = 3\n",
    "out_features_1 = 128\n",
    "K1 = 6 # p-hops\n",
    "thetas_1 = nn.Parameter(torch.rand(nr_points))\n",
    "out = chebyshev_Lapl(x,L,thetas_1,K1)\n",
    "print('cheb approx out powers concatenated:', out.shape)\n",
    "linear_1 = nn.Linear(K1*features_1, out_features_1) \n",
    "layer_out_1 = linear_1(out)\n",
    "print('Layers output:', layer_out_1.shape)"
   ]
  },
  {
   "cell_type": "code",
   "execution_count": 8,
   "id": "9058a9a3",
   "metadata": {},
   "outputs": [
    {
     "name": "stdout",
     "output_type": "stream",
     "text": [
      "torch.Size([1024, 128])\n",
      "torch.Size([1024, 1024])\n",
      "tensor([[1.0000, 0.6884, 0.9465,  ..., 0.2622, 0.4602, 0.8043],\n",
      "        [0.6884, 1.0000, 0.7309,  ..., 0.6186, 0.3354, 0.6919],\n",
      "        [0.9465, 0.7309, 1.0000,  ..., 0.3587, 0.5909, 0.9384],\n",
      "        ...,\n",
      "        [0.2622, 0.6186, 0.3587,  ..., 1.0000, 0.3521, 0.4753],\n",
      "        [0.4602, 0.3354, 0.5909,  ..., 0.3521, 1.0000, 0.7632],\n",
      "        [0.8043, 0.6919, 0.9384,  ..., 0.4753, 0.7632, 1.0000]],\n",
      "       grad_fn=<SqueezeBackward0>)\n"
     ]
    }
   ],
   "source": [
    "getter1=GetGraph()\n",
    "print(layer_out_1.shape)\n",
    "\n",
    "\n",
    "data1=layer_out_1\n",
    "data1=data1.reshape([1,nr_points,out_features_1])\n",
    "x1=data1\n",
    "W1=getter1(data1)\n",
    "W_torch1=W1\n",
    "W1=torch.squeeze(W1)\n",
    "print(W1.shape)\n",
    "print(W1)"
   ]
  },
  {
   "cell_type": "code",
   "execution_count": 9,
   "id": "88cd469a",
   "metadata": {
    "scrolled": true
   },
   "outputs": [
    {
     "name": "stdout",
     "output_type": "stream",
     "text": [
      "torch.Size([1, 1024, 1024])\n",
      "torch.Size([1024, 1024])\n",
      "tensor([[ 9.9778e-01, -1.5113e-03, -1.9219e-03,  ..., -5.5015e-04,\n",
      "         -8.4292e-04, -1.5040e-03],\n",
      "        [-1.5113e-03,  9.9783e-01, -1.4673e-03,  ..., -1.2835e-03,\n",
      "         -6.0733e-04, -1.2792e-03],\n",
      "        [-1.9219e-03, -1.4673e-03,  9.9814e-01,  ..., -6.8836e-04,\n",
      "         -9.8963e-04, -1.6045e-03],\n",
      "        ...,\n",
      "        [-5.5015e-04, -1.2835e-03, -6.8836e-04,  ...,  9.9802e-01,\n",
      "         -6.0944e-04, -8.3989e-04],\n",
      "        [-8.4292e-04, -6.0733e-04, -9.8963e-04,  ..., -6.0944e-04,\n",
      "          9.9849e-01, -1.1772e-03],\n",
      "        [-1.5040e-03, -1.2792e-03, -1.6045e-03,  ..., -8.3989e-04,\n",
      "         -1.1772e-03,  9.9843e-01]], grad_fn=<SqueezeBackward0>)\n"
     ]
    }
   ],
   "source": [
    "getter_laplacian_1=GetLaplacian()\n",
    "L_torch1=getter_laplacian_1(W_torch1)\n",
    "L1=torch.squeeze(L_torch1)\n",
    "print(L_torch1.shape)\n",
    "print(L1.shape)\n",
    "print(L1)"
   ]
  },
  {
   "cell_type": "code",
   "execution_count": 10,
   "id": "06146da8",
   "metadata": {},
   "outputs": [
    {
     "name": "stdout",
     "output_type": "stream",
     "text": [
      "cheb approx out powers concatenated: torch.Size([1024, 640])\n",
      "Layers output: torch.Size([1024, 512])\n"
     ]
    }
   ],
   "source": [
    "z1=layer_out_1\n",
    "features_2 = out_features_1\n",
    "out_features_2 = 512\n",
    "K2 = 5 # p-hops\n",
    "thetas_2 = nn.Parameter(torch.rand(nr_points))\n",
    "out_2 = chebyshev_Lapl(z1,L1,thetas_2,K2)\n",
    "print('cheb approx out powers concatenated:', out_2.shape)\n",
    "linear_2 = nn.Linear(K2*features_2, out_features_2) \n",
    "layer_out_2 = linear_2(out_2)\n",
    "print('Layers output:', layer_out_2.shape)"
   ]
  },
  {
   "cell_type": "code",
   "execution_count": 11,
   "id": "cccf45fc",
   "metadata": {},
   "outputs": [
    {
     "name": "stdout",
     "output_type": "stream",
     "text": [
      "torch.Size([1024, 512])\n",
      "torch.Size([1024, 1024])\n",
      "tensor([[1.0000, 0.9404, 0.9885,  ..., 0.7846, 0.8643, 0.9590],\n",
      "        [0.9404, 1.0000, 0.9470,  ..., 0.9173, 0.8257, 0.9376],\n",
      "        [0.9885, 0.9470, 1.0000,  ..., 0.8207, 0.9010, 0.9884],\n",
      "        ...,\n",
      "        [0.7846, 0.9173, 0.8207,  ..., 1.0000, 0.8180, 0.8597],\n",
      "        [0.8643, 0.8257, 0.9010,  ..., 0.8180, 1.0000, 0.9431],\n",
      "        [0.9590, 0.9376, 0.9884,  ..., 0.8597, 0.9431, 1.0000]],\n",
      "       grad_fn=<SqueezeBackward0>)\n"
     ]
    }
   ],
   "source": [
    "getter2=GetGraph()\n",
    "print(layer_out_2.shape)\n",
    "data2=layer_out_2\n",
    "data2=data2.reshape([1,nr_points,out_features_2])\n",
    "x2=data2\n",
    "W2=getter2(data2)\n",
    "W_torch2=W2\n",
    "W2=torch.squeeze(W2)\n",
    "print(W2.shape)\n",
    "print(W2)"
   ]
  },
  {
   "cell_type": "code",
   "execution_count": 12,
   "id": "94d29aae",
   "metadata": {},
   "outputs": [
    {
     "name": "stdout",
     "output_type": "stream",
     "text": [
      "torch.Size([1, 1024, 1024])\n",
      "torch.Size([1024, 1024])\n",
      "tensor([[ 9.9883e-01, -1.0916e-03, -1.1356e-03,  ..., -9.0467e-04,\n",
      "         -9.6831e-04, -1.0810e-03],\n",
      "        [-1.0916e-03,  9.9885e-01, -1.0794e-03,  ..., -1.0494e-03,\n",
      "         -9.1786e-04, -1.0487e-03],\n",
      "        [-1.1356e-03, -1.0794e-03,  9.9887e-01,  ..., -9.2931e-04,\n",
      "         -9.9133e-04, -1.0941e-03],\n",
      "        ...,\n",
      "        [-9.0467e-04, -1.0494e-03, -9.2931e-04,  ...,  9.9886e-01,\n",
      "         -9.0332e-04, -9.5511e-04],\n",
      "        [-9.6831e-04, -9.1786e-04, -9.9133e-04,  ..., -9.0332e-04,\n",
      "          9.9893e-01, -1.0181e-03],\n",
      "        [-1.0810e-03, -1.0487e-03, -1.0941e-03,  ..., -9.5511e-04,\n",
      "         -1.0181e-03,  9.9891e-01]], grad_fn=<SqueezeBackward0>)\n"
     ]
    }
   ],
   "source": [
    "getter_laplacian_2=GetLaplacian()\n",
    "L_torch2=getter_laplacian_2(W_torch2)\n",
    "L2=torch.squeeze(L_torch2)\n",
    "print(L_torch2.shape)\n",
    "print(L2.shape)\n",
    "print(L2)"
   ]
  },
  {
   "cell_type": "code",
   "execution_count": 13,
   "id": "8bd43d02",
   "metadata": {},
   "outputs": [
    {
     "name": "stdout",
     "output_type": "stream",
     "text": [
      "cheb approx out powers concatenated: torch.Size([1024, 1536])\n",
      "Layers output: torch.Size([1024, 1024])\n"
     ]
    }
   ],
   "source": [
    "z2=layer_out_2\n",
    "features_3 = out_features_2\n",
    "out_features_3 = 1024\n",
    "K3 = 3 \n",
    "thetas_3 = nn.Parameter(torch.rand(nr_points))\n",
    "out_3 = chebyshev_Lapl(z2,L2,thetas_3,K3)\n",
    "print('cheb approx out powers concatenated:', out_3.shape)\n",
    "linear_3 = nn.Linear(K3*features_3, out_features_3) \n",
    "layer_out_3 = linear_3(out_3)\n",
    "print('Layers output:', layer_out_3.shape)"
   ]
  },
  {
   "cell_type": "code",
   "execution_count": null,
   "id": "cf4ab107",
   "metadata": {},
   "outputs": [],
   "source": [
    "#Trebuie adaugat maxpool"
   ]
  },
  {
   "cell_type": "code",
   "execution_count": 15,
   "id": "cda6df9c",
   "metadata": {},
   "outputs": [
    {
     "name": "stdout",
     "output_type": "stream",
     "text": [
      "Layers second MLP: torch.Size([1024, 192])\n"
     ]
    }
   ],
   "source": []
  },
  {
   "cell_type": "code",
   "execution_count": 16,
   "id": "3693e1a3",
   "metadata": {},
   "outputs": [
    {
     "name": "stdout",
     "output_type": "stream",
     "text": [
      "torch.Size([1024, 192])\n",
      "torch.Size([1024, 512])\n",
      "Concatenated vector features: 704\n",
      "torch.Size([1024, 704])\n"
     ]
    }
   ],
   "source": []
  },
  {
   "cell_type": "code",
   "execution_count": 17,
   "id": "9d5c00c1",
   "metadata": {},
   "outputs": [
    {
     "name": "stdout",
     "output_type": "stream",
     "text": [
      "Final layer: torch.Size([1024, 50])\n"
     ]
    }
   ],
   "source": []
  },
  {
   "cell_type": "code",
   "execution_count": null,
   "id": "ccf23aec",
   "metadata": {},
   "outputs": [],
   "source": []
  },
  {
   "cell_type": "code",
   "execution_count": null,
   "id": "10bc6e04",
   "metadata": {},
   "outputs": [],
   "source": []
  },
  {
   "cell_type": "code",
   "execution_count": null,
   "id": "e37b2f47",
   "metadata": {},
   "outputs": [],
   "source": []
  }
 ],
 "metadata": {
  "kernelspec": {
   "display_name": "Python 3",
   "language": "python",
   "name": "python3"
  },
  "language_info": {
   "codemirror_mode": {
    "name": "ipython",
    "version": 3
   },
   "file_extension": ".py",
   "mimetype": "text/x-python",
   "name": "python",
   "nbconvert_exporter": "python",
   "pygments_lexer": "ipython3",
   "version": "3.7.11"
  }
 },
 "nbformat": 4,
 "nbformat_minor": 5
}
